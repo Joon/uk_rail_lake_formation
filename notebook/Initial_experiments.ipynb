{
 "cells": [
  {
   "cell_type": "markdown",
   "id": "9b22cad4",
   "metadata": {},
   "source": [
    "# Schema and table testing\n",
    "\n",
    "This notebook contains code related to establishing the schema for the train movements governed table, and creating it"
   ]
  },
  {
   "cell_type": "code",
   "execution_count": 2,
   "id": "cb76621a",
   "metadata": {},
   "outputs": [],
   "source": [
    "import awswrangler as aw\n",
    "import json\n",
    "import boto3\n",
    "import pandas as pd\n",
    "import os\n",
    "from datetime import datetime"
   ]
  },
  {
   "cell_type": "code",
   "execution_count": 3,
   "id": "f8f66bc5",
   "metadata": {},
   "outputs": [],
   "source": [
    "# Ensure that the correct session is used\n",
    "boto3.setup_default_session(region_name=\"us-east-1\")"
   ]
  },
  {
   "cell_type": "code",
   "execution_count": 136,
   "id": "f7b17bfa",
   "metadata": {},
   "outputs": [],
   "source": [
    "# These sample messages are loaded to create the correct schema. For each message, grab the \n",
    "# body and append the header message type into ot\n",
    "all_file_bodies = []\n",
    "\n",
    "for subdir, dirs, files in os.walk('./sample_data/'):\n",
    "    for file in files:\n",
    "        file_loc = os.path.join(subdir, file)\n",
    "        f = open(file_loc)\n",
    "        filedata = json.load(f)\n",
    "        for row in filedata:\n",
    "            row_to_add = row['body']\n",
    "            row_to_add['msg_type'] = row['header']['msg_type']\n",
    "            all_file_bodies.append(row_to_add)\n",
    "        "
   ]
  },
  {
   "cell_type": "code",
   "execution_count": 141,
   "id": "bc90633b",
   "metadata": {},
   "outputs": [],
   "source": [
    "flat_list = all_file_bodies"
   ]
  },
  {
   "cell_type": "code",
   "execution_count": 143,
   "id": "7eba4607",
   "metadata": {},
   "outputs": [],
   "source": [
    "frame = pd.DataFrame(flat_list)"
   ]
  },
  {
   "cell_type": "code",
   "execution_count": 144,
   "id": "baac26f9",
   "metadata": {},
   "outputs": [],
   "source": [
    "frame['segment_timestamp'] = frame['actual_timestamp'].fillna(frame['creation_timestamp'])\n",
    "frame['segment_timestamp'] = frame['segment_timestamp'].fillna(frame['dep_timestamp'])\n",
    "frame['segment_timestamp'] = frame['segment_timestamp'].fillna(frame['event_timestamp'])"
   ]
  },
  {
   "cell_type": "code",
   "execution_count": 145,
   "id": "2175f763",
   "metadata": {},
   "outputs": [],
   "source": [
    "frame['segment_date'] = frame['segment_timestamp'].apply(lambda x: datetime.fromtimestamp(int(x) / 1000.0).date())\n",
    "frame = frame.drop(columns=['segment_timestamp'])"
   ]
  },
  {
   "cell_type": "code",
   "execution_count": 146,
   "id": "e3e6ec2d",
   "metadata": {},
   "outputs": [],
   "source": [
    "schema = aw.catalog.extract_athena_types(frame)"
   ]
  },
  {
   "cell_type": "code",
   "execution_count": 147,
   "id": "f71c71cb",
   "metadata": {},
   "outputs": [
    {
     "data": {
      "text/plain": [
       "({'event_type': 'string',\n",
       "  'gbtt_timestamp': 'string',\n",
       "  'original_loc_stanox': 'string',\n",
       "  'planned_timestamp': 'string',\n",
       "  'timetable_variation': 'string',\n",
       "  'original_loc_timestamp': 'string',\n",
       "  'current_train_id': 'string',\n",
       "  'delay_monitoring_point': 'string',\n",
       "  'next_report_run_time': 'string',\n",
       "  'reporting_stanox': 'string',\n",
       "  'actual_timestamp': 'string',\n",
       "  'correction_ind': 'string',\n",
       "  'event_source': 'string',\n",
       "  'train_file_address': 'string',\n",
       "  'platform': 'string',\n",
       "  'division_code': 'string',\n",
       "  'train_terminated': 'string',\n",
       "  'train_id': 'string',\n",
       "  'offroute_ind': 'string',\n",
       "  'variation_status': 'string',\n",
       "  'train_service_code': 'string',\n",
       "  'toc_id': 'string',\n",
       "  'loc_stanox': 'string',\n",
       "  'auto_expected': 'string',\n",
       "  'direction_ind': 'string',\n",
       "  'route': 'string',\n",
       "  'planned_event_type': 'string',\n",
       "  'next_report_stanox': 'string',\n",
       "  'line_ind': 'string',\n",
       "  'msg_type': 'string',\n",
       "  'schedule_source': 'string',\n",
       "  'schedule_end_date': 'string',\n",
       "  'tp_origin_timestamp': 'string',\n",
       "  'creation_timestamp': 'string',\n",
       "  'tp_origin_stanox': 'string',\n",
       "  'origin_dep_timestamp': 'string',\n",
       "  'd1266_record_number': 'string',\n",
       "  'train_call_type': 'string',\n",
       "  'train_uid': 'string',\n",
       "  'train_call_mode': 'string',\n",
       "  'schedule_type': 'string',\n",
       "  'sched_origin_stanox': 'string',\n",
       "  'schedule_wtt_id': 'string',\n",
       "  'schedule_start_date': 'string',\n",
       "  'orig_loc_stanox': 'string',\n",
       "  'dep_timestamp': 'string',\n",
       "  'canx_timestamp': 'string',\n",
       "  'canx_reason_code': 'string',\n",
       "  'orig_loc_timestamp': 'string',\n",
       "  'canx_type': 'string',\n",
       "  'reinstatement_timestamp': 'string',\n",
       "  'reason_code': 'string',\n",
       "  'coo_timestamp': 'string',\n",
       "  'revised_train_id': 'string',\n",
       "  'event_timestamp': 'string',\n",
       "  'segment_date': 'date'},\n",
       " {})"
      ]
     },
     "execution_count": 147,
     "metadata": {},
     "output_type": "execute_result"
    }
   ],
   "source": [
    "schema"
   ]
  },
  {
   "cell_type": "code",
   "execution_count": 148,
   "id": "6bce847a",
   "metadata": {},
   "outputs": [
    {
     "data": {
      "text/plain": [
       "'date'"
      ]
     },
     "execution_count": 148,
     "metadata": {},
     "output_type": "execute_result"
    }
   ],
   "source": [
    "use_schema = schema[0]\n",
    "use_schema.pop(\"segment_date\")"
   ]
  },
  {
   "cell_type": "code",
   "execution_count": 131,
   "id": "c400526d",
   "metadata": {},
   "outputs": [
    {
     "data": {
      "text/plain": [
       "{'event_type': 'string',\n",
       " 'gbtt_timestamp': 'string',\n",
       " 'original_loc_stanox': 'string',\n",
       " 'planned_timestamp': 'string',\n",
       " 'timetable_variation': 'string',\n",
       " 'original_loc_timestamp': 'string',\n",
       " 'current_train_id': 'string',\n",
       " 'delay_monitoring_point': 'string',\n",
       " 'next_report_run_time': 'string',\n",
       " 'reporting_stanox': 'string',\n",
       " 'actual_timestamp': 'string',\n",
       " 'correction_ind': 'string',\n",
       " 'event_source': 'string',\n",
       " 'train_file_address': 'string',\n",
       " 'platform': 'string',\n",
       " 'division_code': 'string',\n",
       " 'train_terminated': 'string',\n",
       " 'train_id': 'string',\n",
       " 'offroute_ind': 'string',\n",
       " 'variation_status': 'string',\n",
       " 'train_service_code': 'string',\n",
       " 'toc_id': 'string',\n",
       " 'loc_stanox': 'string',\n",
       " 'auto_expected': 'string',\n",
       " 'direction_ind': 'string',\n",
       " 'route': 'string',\n",
       " 'planned_event_type': 'string',\n",
       " 'next_report_stanox': 'string',\n",
       " 'line_ind': 'string',\n",
       " 'schedule_source': 'string',\n",
       " 'schedule_end_date': 'string',\n",
       " 'tp_origin_timestamp': 'string',\n",
       " 'creation_timestamp': 'string',\n",
       " 'tp_origin_stanox': 'string',\n",
       " 'origin_dep_timestamp': 'string',\n",
       " 'd1266_record_number': 'string',\n",
       " 'train_call_type': 'string',\n",
       " 'train_uid': 'string',\n",
       " 'train_call_mode': 'string',\n",
       " 'schedule_type': 'string',\n",
       " 'sched_origin_stanox': 'string',\n",
       " 'schedule_wtt_id': 'string',\n",
       " 'schedule_start_date': 'string',\n",
       " 'orig_loc_stanox': 'string',\n",
       " 'dep_timestamp': 'string',\n",
       " 'canx_timestamp': 'string',\n",
       " 'canx_reason_code': 'string',\n",
       " 'orig_loc_timestamp': 'string',\n",
       " 'canx_type': 'string',\n",
       " 'reinstatement_timestamp': 'string',\n",
       " 'reason_code': 'string',\n",
       " 'coo_timestamp': 'string',\n",
       " 'revised_train_id': 'string',\n",
       " 'event_timestamp': 'string'}"
      ]
     },
     "execution_count": 131,
     "metadata": {},
     "output_type": "execute_result"
    }
   ],
   "source": [
    "use_schema"
   ]
  },
  {
   "cell_type": "code",
   "execution_count": 149,
   "id": "50117f5d",
   "metadata": {},
   "outputs": [],
   "source": [
    "aw.catalog.create_parquet_table(database = \"train_bronze\", \n",
    "                                table = \"train_movements_governed\", \n",
    "                                path = \"s3://train-bronze/train_movements_governed\",\n",
    "                                columns_types = schema[0],\n",
    "                                compression = \"snappy\",\n",
    "                                partitions_types = {'segment_date': 'date'},\n",
    "                                table_type = \"GOVERNED\")"
   ]
  },
  {
   "cell_type": "code",
   "execution_count": 5,
   "id": "689714c0",
   "metadata": {},
   "outputs": [],
   "source": [
    "aw.catalog.create_parquet_table(database = \"train_silver\", \n",
    "                                table = \"journey\", \n",
    "                                path = \"s3://train-silver/journey/\",\n",
    "                                columns_types = {\n",
    "                                    'train_id': 'string',\n",
    "                                    'date': 'date',\n",
    "                                    'stanox': 'string',\n",
    "                                    'start_timestamp': 'timestamp',\n",
    "                                    'created': 'timestamp',\n",
    "                                    'canx_timestamp': 'bigint'\n",
    "                                },\n",
    "                                compression = \"snappy\",\n",
    "                                partitions_types = {'segment_date': 'date'},\n",
    "                                table_type = \"GOVERNED\")"
   ]
  }
 ],
 "metadata": {
  "kernelspec": {
   "display_name": "Python 3 (ipykernel)",
   "language": "python",
   "name": "python3"
  },
  "language_info": {
   "codemirror_mode": {
    "name": "ipython",
    "version": 3
   },
   "file_extension": ".py",
   "mimetype": "text/x-python",
   "name": "python",
   "nbconvert_exporter": "python",
   "pygments_lexer": "ipython3",
   "version": "3.10.4"
  }
 },
 "nbformat": 4,
 "nbformat_minor": 5
}
