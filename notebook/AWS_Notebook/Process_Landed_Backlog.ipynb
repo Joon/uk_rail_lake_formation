{
 "cells": [
  {
   "cell_type": "markdown",
   "id": "ae24157c",
   "metadata": {},
   "source": [
    "## Backlog processing\n",
    "\n",
    "This notebook processes the backlof of data resident in the train-data-landing bucket, saving it to the bronze train movements table. It was initially run in a Sagemaker notebook against a Glue endpoint to catch up the backlog."
   ]
  },
  {
   "cell_type": "code",
   "execution_count": null,
   "id": "03b42bbf",
   "metadata": {},
   "outputs": [],
   "source": [
    "!pip install awswrangler"
   ]
  },
  {
   "cell_type": "code",
   "execution_count": 1,
   "id": "f3feedb8",
   "metadata": {},
   "outputs": [],
   "source": [
    "import awswrangler as wr\n",
    "import json\n",
    "import boto3\n",
    "import pandas as pd\n",
    "import numpy as np\n",
    "import os\n",
    "import io\n",
    "from datetime import datetime\n",
    "# Ensure that the correct session is used\n",
    "boto3.setup_default_session(region_name=\"us-east-1\")\n",
    "s3 = boto3.client('s3')"
   ]
  },
  {
   "cell_type": "code",
   "execution_count": 2,
   "id": "ef1ed920",
   "metadata": {},
   "outputs": [],
   "source": [
    "file_list = wr.s3.list_objects('s3://train-data-landing/2022/04/1')\n"
   ]
  },
  {
   "cell_type": "code",
   "execution_count": 3,
   "id": "53847512",
   "metadata": {},
   "outputs": [
    {
     "data": {
      "text/plain": [
       "7"
      ]
     },
     "execution_count": 3,
     "metadata": {},
     "output_type": "execute_result"
    }
   ],
   "source": [
    "len(file_list) "
   ]
  },
  {
   "cell_type": "code",
   "execution_count": 4,
   "id": "b61aa37e",
   "metadata": {},
   "outputs": [
    {
     "name": "stdout",
     "output_type": "stream",
     "text": [
      "processing the last increment: 7\n",
      "writing 174 rows to governed table at 09:04:22\n",
      "moving files...\n"
     ]
    }
   ],
   "source": [
    "counter = 0\n",
    "rows = []\n",
    "movefiles = []\n",
    "\n",
    "for file in file_list:\n",
    "    counter = counter + 1\n",
    "    filename = file.split('//')[1].split('train-data-landing/')[1]\n",
    "    obj = s3.get_object(Bucket='train-data-landing', Key=filename)\n",
    "    content = obj['Body'].read().decode('utf8')\n",
    "    movefiles.append(filename)    \n",
    "    filedata = json.loads(content)\n",
    "    # Add all rows from the landed file to a list\n",
    "    for row in filedata:\n",
    "        row_to_add = row['body']\n",
    "        row_to_add['msg_type'] = row['header']['msg_type']\n",
    "        rows.append(row_to_add)\n",
    "    # Every 500 files, write all rows in the list to the table\n",
    "    if counter % 500 == 0:\n",
    "        print('processing increment ' + str(counter))\n",
    "        frame = pd.DataFrame(rows)        \n",
    "        frame['segment_timestamp'] = np.nan\n",
    "        if 'actual_timestamp' in frame.columns:\n",
    "            frame['segment_timestamp'] = frame['segment_timestamp'].fillna(frame['actual_timestamp'])\n",
    "        if 'creation_timestamp' in frame.columns:\n",
    "            frame['segment_timestamp'] = frame['segment_timestamp'].fillna(frame['creation_timestamp'])\n",
    "        if 'dep_timestamp' in frame.columns:\n",
    "            frame['segment_timestamp'] = frame['segment_timestamp'].fillna(frame['dep_timestamp'])\n",
    "        if 'event_timestamp' in frame.columns:\n",
    "            frame['segment_timestamp'] = frame['segment_timestamp'].fillna(frame['event_timestamp'])\n",
    "                \n",
    "        frame['segment_date'] = frame['segment_timestamp'].apply(lambda x: datetime.fromtimestamp(int(x) / 1000.0).date())\n",
    "        frame = frame.drop(columns=['segment_timestamp'])\n",
    "        now = datetime.now()\n",
    "        current_time = now.strftime(\"%H:%M:%S\")\n",
    "        print('writing ' + str(len(rows)) + ' rows to governed table at ' + current_time)\n",
    "        wr.s3.to_parquet(\n",
    "            df=frame,\n",
    "            dataset=True,\n",
    "            mode=\"append\",\n",
    "            database=\"train_bronze\",\n",
    "            table=\"train_movements_governed\",\n",
    "            catalog_versioning=True,  # Optional\n",
    "            #schema_evolution=True,\n",
    "            partition_cols=['segment_date'])\n",
    "        \n",
    "        print ('moving files...')\n",
    "        for movefile in movefiles:\n",
    "            copy_source = {\n",
    "                'Bucket': 'train-data-landing',\n",
    "                'Key': movefile\n",
    "            }\n",
    "            s3.copy(copy_source, 'train-data-landing', 'processed/' + movefile)                                \n",
    "            s3.delete_object(Bucket='train-data-landing', Key=movefile)\n",
    "        rows = []\n",
    "        movefiles = []\n",
    "\n",
    "if len(rows) > 0:\n",
    "    print('processing the last increment: ' + str(counter))\n",
    "    frame = pd.DataFrame(rows)        \n",
    "    frame['segment_timestamp'] = np.nan\n",
    "    if 'actual_timestamp' in frame.columns:\n",
    "        frame['segment_timestamp'] = frame['segment_timestamp'].fillna(frame['actual_timestamp'])\n",
    "    if 'creation_timestamp' in frame.columns:\n",
    "        frame['segment_timestamp'] = frame['segment_timestamp'].fillna(frame['creation_timestamp'])\n",
    "    if 'dep_timestamp' in frame.columns:\n",
    "        frame['segment_timestamp'] = frame['segment_timestamp'].fillna(frame['dep_timestamp'])\n",
    "    if 'event_timestamp' in frame.columns:\n",
    "        frame['segment_timestamp'] = frame['segment_timestamp'].fillna(frame['event_timestamp'])\n",
    "\n",
    "    frame['segment_date'] = frame['segment_timestamp'].apply(lambda x: datetime.fromtimestamp(int(x) / 1000.0).date())\n",
    "    frame = frame.drop(columns=['segment_timestamp'])\n",
    "    now = datetime.now()\n",
    "    current_time = now.strftime(\"%H:%M:%S\")\n",
    "    print('writing ' + str(len(rows)) + ' rows to governed table at ' + current_time)\n",
    "    wr.s3.to_parquet(\n",
    "        df=frame,\n",
    "        dataset=True,\n",
    "        mode=\"append\",\n",
    "        database=\"train_bronze\",\n",
    "        table=\"train_movements_governed\",\n",
    "        catalog_versioning=True,  # Optional\n",
    "        #schema_evolution=True,\n",
    "        partition_cols=['segment_date'])\n",
    "\n",
    "    print ('moving files...')\n",
    "    for movefile in movefiles:\n",
    "        copy_source = {\n",
    "            'Bucket': 'train-data-landing',\n",
    "            'Key': movefile\n",
    "        }\n",
    "        s3.copy(copy_source, 'train-data-landing', 'processed/' + movefile)                                \n",
    "        s3.delete_object(Bucket='train-data-landing', Key=movefile)"
   ]
  }
 ],
 "metadata": {
  "kernelspec": {
   "display_name": "Python 3 (ipykernel)",
   "language": "python",
   "name": "python3"
  },
  "language_info": {
   "codemirror_mode": {
    "name": "ipython",
    "version": 3
   },
   "file_extension": ".py",
   "mimetype": "text/x-python",
   "name": "python",
   "nbconvert_exporter": "python",
   "pygments_lexer": "ipython3",
   "version": "3.10.4"
  }
 },
 "nbformat": 4,
 "nbformat_minor": 5
}
